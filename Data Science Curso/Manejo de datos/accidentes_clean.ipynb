{
 "cells": [
  {
   "cell_type": "code",
   "execution_count": 42,
   "metadata": {},
   "outputs": [],
   "source": [
    "import pandas as pd"
   ]
  },
  {
   "cell_type": "code",
   "execution_count": 43,
   "metadata": {},
   "outputs": [],
   "source": [
    "df = pd.read_csv('files\\incidentes_viales_feb_2022.csv', encoding='latin1', on_bad_lines='skip',low_memory=False)\n",
    "df.dropna(inplace=True)"
   ]
  },
  {
   "cell_type": "code",
   "execution_count": 44,
   "metadata": {},
   "outputs": [],
   "source": [
    "ent_accidente = df[['folio','incidente_c4','clas_con_f_alarma','tipo_entrada','codigo_cierre']].drop_duplicates().sort_index().reset_index(drop=True)\n",
    "ent_accidente.insert(0,'id_accidente',ent_accidente.index+1)\n",
    "val_sucio_incidente_c4 ={'cadÃ¡ver-atropellado':'cadaver atropellado', 'detenciÃ³n ciudadana-atropellado':'detencion cuidadana-atropellado',\n",
    "                            'cadÃ¡ver-accidente automovilÃ\\xadstico':'cadaver-accidente automovilistico','accidente-vehÃ\\xadculo atrapado-varado':'accidente-vehiculo atrapado-varado',\n",
    "                            'mi ciudad-calle-incidente de trÃ¡nsito':'mi ciudad-calle-incidente de transito','detenciÃ³n ciudadana-accidente automovilÃ\\xadstico':'detencion ciudadana-accidente automovilistico',\n",
    "                            'mi ciudad-taxi-incidente de trÃ¡nsito':'mi ciudad-taxi-incidente de transito','lesionado-accidente automovilÃ\\xadstico':'lesionado-accidente automovilistico',\n",
    "                            'accidente-monopatÃ\\xadn':'accidente-monopatin','cadÃ¡verE AUXILIO':'boton AUXILIO','cadÃ¡ver-atUXILIO':'boton auxilio', 'caTÃ\\x93N DE AUXILIO':'boton auxilio',\n",
    "                             'lesionado-accidente automovilÃ\\xadstic':'lesionado accidente automovilistico','cadÃ¡verE AUXILIO':'boton auxilio','cadÃ¡v DE AUXILIO':'boton auxilio','boton auxilio':'cOTÃ\\x93N DE AUXILIO'}\n",
    "\n",
    "val_sucio_tipo_entrada = {'BOTÃ\\x93N DE AUXILIO':'Boton auxilio','CÃ\\x81MARA':'camara',\n",
    "                                 'MiÃ©rcoles':'miercoles','cadÃ¡ver-atropellado':'atropellado','MiÃ©rcol1s':'miercoles',\n",
    "                                 'MiÃ©rco':'miercoles','SÃ¡bado':'sabado','cadÃ¡ver-atropell':'cadaver atriopellado','CiÃ©rco':'no identificado',\n",
    "                                 'CÃ\\x81©rco':'no identificado', 'BOTÃ\\x93N DE tropell':'no identificado', 'CÃ¡bado':'no identificado',\n",
    "                                'CÃ\\x81MARo' :'no identificado','CÃ\\x81Mado':'no identificado', 'CÃ\\x81MAdo':'no identificado','cOTÃ\\x93N DE AUXILIO':'boton auxilio'}\n",
    "ent_accidente.replace(val_sucio_incidente_c4,inplace=True)\n",
    "ent_accidente.replace(val_sucio_tipo_entrada,inplace=True)"
   ]
  },
  {
   "cell_type": "code",
   "execution_count": 45,
   "metadata": {},
   "outputs": [
    {
     "name": "stdout",
     "output_type": "stream",
     "text": [
      "<class 'pandas.core.frame.DataFrame'>\n",
      "RangeIndex: 1624959 entries, 0 to 1624958\n",
      "Data columns (total 6 columns):\n",
      " #   Column             Non-Null Count    Dtype \n",
      "---  ------             --------------    ----- \n",
      " 0   id_accidente       1624959 non-null  int64 \n",
      " 1   folio              1624959 non-null  object\n",
      " 2   incidente_c4       1624959 non-null  object\n",
      " 3   clas_con_f_alarma  1624959 non-null  object\n",
      " 4   tipo_entrada       1624959 non-null  object\n",
      " 5   codigo_cierre      1624959 non-null  object\n",
      "dtypes: int64(1), object(5)\n",
      "memory usage: 74.4+ MB\n"
     ]
    }
   ],
   "source": [
    "ent_accidente.info()"
   ]
  },
  {
   "cell_type": "code",
   "execution_count": 46,
   "metadata": {},
   "outputs": [
    {
     "data": {
      "text/plain": [
       "\"ent_tiempo['hora_creacion'] = pd.to_datetime(ent_tiempo['hora_creacion'])\\nent_tiempo['hora_cierre'] = pd.to_datetime(ent_tiempo['hora_cierre'])\\nent_tiempo['fecha_cierre'] = pd.to_datetime(ent_tiempo['fecha_cierre'])\\nent_tiempo['fecha_creacion'] = pd.to_datetime(ent_tiempo['fecha_creacion'])\""
      ]
     },
     "execution_count": 46,
     "metadata": {},
     "output_type": "execute_result"
    }
   ],
   "source": [
    "ent_tiempo = df[['folio','fecha_creacion', 'hora_creacion', 'dia_semana','fecha_cierre', 'hora_cierre','ano_cierre','mes_cierre']].drop_duplicates().sort_index().reset_index(drop=True)\n",
    "ent_tiempo.insert(0,'id_fecha',ent_tiempo.index+1)\n",
    "val_sucio = {'MiÃ©rcoles':'Miercoles','SÃ¡bado':'Sabado','SÃÃ©rco':'Sabado','MiÃ©rco':'Miercoles','SiÃ©rco':'Sabado','SÃ¡©rco':'Sabado',\n",
    "                 'MÃ¡bado':'Sabado','SÃ¡baco':'Sabado','CÃ\\x81MARA':'No identificado','SÃ¡bARA':'No identificado','SÃ\\x81MARA':'No identificado',\n",
    "                 'MiÃMARA':'No identificado','MiÃ©ARA':'No identificado','SÃ¡badA':'Sabado','SÃ¡baRA':'Sabado','accidente-choque sin lesionados':'No identificado','MiÃ©rcol':'Miercoles',\n",
    "                 'lesionado-atropellado':'No identificado','SÃ¡brcoles':'Miercoles','MiÃ©rRA':'Miercoles', 'MiÃ©rcolCALCO,19\\x18':'Miercoles','MiÃbado':'Sabado', 'MiÃ©rdo':'Miercoles', 'SÃ¡brco':'Sabado',\n",
    "                  'MiÃ©ado':'Sabado', 'Mi¡bado':'Sabado', 'MÃ\\x81MARA':'No identificado','1':'Enero'}\n",
    "ent_tiempo.replace(val_sucio,inplace=True)\n",
    "ent_tiempo = ent_tiempo[ent_tiempo[\"hora_creacion\"].str.contains(\"0.\") == False]\n",
    "ent_tiempo = ent_tiempo[ent_tiempo[\"hora_cierre\"].str.contains(\"0.\") == False]\n",
    "\"\"\"ent_tiempo['hora_creacion'] = pd.to_datetime(ent_tiempo['hora_creacion'])\n",
    "ent_tiempo['hora_cierre'] = pd.to_datetime(ent_tiempo['hora_cierre'])\n",
    "ent_tiempo['fecha_cierre'] = pd.to_datetime(ent_tiempo['fecha_cierre'])\n",
    "ent_tiempo['fecha_creacion'] = pd.to_datetime(ent_tiempo['fecha_creacion'])\"\"\""
   ]
  },
  {
   "cell_type": "code",
   "execution_count": 47,
   "metadata": {},
   "outputs": [
    {
     "name": "stdout",
     "output_type": "stream",
     "text": [
      "<class 'pandas.core.frame.DataFrame'>\n",
      "Int64Index: 374881 entries, 1 to 1639752\n",
      "Data columns (total 9 columns):\n",
      " #   Column          Non-Null Count   Dtype \n",
      "---  ------          --------------   ----- \n",
      " 0   id_fecha        374881 non-null  int64 \n",
      " 1   folio           374881 non-null  object\n",
      " 2   fecha_creacion  374881 non-null  object\n",
      " 3   hora_creacion   374881 non-null  object\n",
      " 4   dia_semana      374881 non-null  object\n",
      " 5   fecha_cierre    374881 non-null  object\n",
      " 6   hora_cierre     374881 non-null  object\n",
      " 7   ano_cierre      374881 non-null  object\n",
      " 8   mes_cierre      374881 non-null  object\n",
      "dtypes: int64(1), object(8)\n",
      "memory usage: 28.6+ MB\n"
     ]
    }
   ],
   "source": [
    "ent_tiempo.info()"
   ]
  },
  {
   "cell_type": "code",
   "execution_count": 48,
   "metadata": {},
   "outputs": [
    {
     "data": {
      "text/plain": [
       "\"ent_delegacion['latitud'] = pd.to_numeric(ent_delegacion['latitud'])\\nent_delegacion['longitud'] = pd.to_numeric(ent_delegacion['longitud'])\""
      ]
     },
     "execution_count": 48,
     "metadata": {},
     "output_type": "execute_result"
    }
   ],
   "source": [
    "ent_delegacion = df[['folio','delegacion_inicio','latitud','longitud','delegacion_cierre']].drop_duplicates().sort_index().reset_index(drop=True)\n",
    "ent_delegacion.insert(0,'id_delegacion',ent_delegacion.index+1)\n",
    "\"\"\"ent_delegacion['latitud'] = pd.to_numeric(ent_delegacion['latitud'])\n",
    "ent_delegacion['longitud'] = pd.to_numeric(ent_delegacion['longitud'])\"\"\""
   ]
  },
  {
   "cell_type": "code",
   "execution_count": 49,
   "metadata": {},
   "outputs": [
    {
     "name": "stdout",
     "output_type": "stream",
     "text": [
      "<class 'pandas.core.frame.DataFrame'>\n",
      "RangeIndex: 1624957 entries, 0 to 1624956\n",
      "Data columns (total 6 columns):\n",
      " #   Column             Non-Null Count    Dtype \n",
      "---  ------             --------------    ----- \n",
      " 0   id_delegacion      1624957 non-null  int64 \n",
      " 1   folio              1624957 non-null  object\n",
      " 2   delegacion_inicio  1624957 non-null  object\n",
      " 3   latitud            1624957 non-null  object\n",
      " 4   longitud           1624957 non-null  object\n",
      " 5   delegacion_cierre  1624957 non-null  object\n",
      "dtypes: int64(1), object(5)\n",
      "memory usage: 74.4+ MB\n"
     ]
    }
   ],
   "source": [
    "ent_delegacion.info()"
   ]
  },
  {
   "cell_type": "code",
   "execution_count": 50,
   "metadata": {},
   "outputs": [],
   "source": [
    "ent_accidente.to_csv('ent_accidente',header=True,index=False)\n",
    "ent_accidente.to_csv('ent_delegacion',header=True,index=False)\n",
    "ent_accidente.to_csv('ent_tiempo',header=True,index=False)"
   ]
  }
 ],
 "metadata": {
  "kernelspec": {
   "display_name": "Python 3.10.7 64-bit",
   "language": "python",
   "name": "python3"
  },
  "language_info": {
   "codemirror_mode": {
    "name": "ipython",
    "version": 3
   },
   "file_extension": ".py",
   "mimetype": "text/x-python",
   "name": "python",
   "nbconvert_exporter": "python",
   "pygments_lexer": "ipython3",
   "version": "3.10.7"
  },
  "orig_nbformat": 4,
  "vscode": {
   "interpreter": {
    "hash": "26de051ba29f2982a8de78e945f0abaf191376122a1563185a90213a26c5da77"
   }
  }
 },
 "nbformat": 4,
 "nbformat_minor": 2
}
